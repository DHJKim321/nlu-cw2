{
 "cells": [
  {
   "cell_type": "code",
   "execution_count": 6,
   "metadata": {},
   "outputs": [],
   "source": [
    "with open(\"europarl_raw/train.en\", \"r\") as f:\n",
    "    train_en = f.read().replace(\"\\n\", \" \")"
   ]
  },
  {
   "cell_type": "code",
   "execution_count": 30,
   "metadata": {},
   "outputs": [
    {
     "name": "stdout",
     "output_type": "stream",
     "text": [
      "124031\n",
      "8326\n"
     ]
    }
   ],
   "source": [
    "tokens = train_en.split()\n",
    "print(len(tokens))\n",
    "print(len(set(tokens)))"
   ]
  },
  {
   "cell_type": "code",
   "execution_count": 31,
   "metadata": {},
   "outputs": [],
   "source": [
    "with open(\"europarl_raw/train.de\", \"r\") as f:\n",
    "    train_de = f.read().replace(\"\\n\", \" \")"
   ]
  },
  {
   "cell_type": "code",
   "execution_count": 32,
   "metadata": {},
   "outputs": [
    {
     "name": "stdout",
     "output_type": "stream",
     "text": [
      "112572\n",
      "12504\n"
     ]
    }
   ],
   "source": [
    "tokens = train_de.split()\n",
    "print(len(tokens))\n",
    "print(len(set(tokens)))"
   ]
  },
  {
   "cell_type": "code",
   "execution_count": 33,
   "metadata": {},
   "outputs": [],
   "source": [
    "unique_en = dict()\n",
    "for token in train_en.split():\n",
    "    if token in unique_en:\n",
    "        unique_en[token] += 1\n",
    "    else:\n",
    "        unique_en[token] = 1\n",
    "\n",
    "unique_de = dict()\n",
    "for token in train_de.split():\n",
    "    if token in unique_de:\n",
    "        unique_de[token] += 1\n",
    "    else:\n",
    "        unique_de[token] = 1"
   ]
  },
  {
   "cell_type": "code",
   "execution_count": 37,
   "metadata": {},
   "outputs": [],
   "source": [
    "unk_english = [word for word, freq in unique_en.items() if freq == 1]\n",
    "unk_german = [word for word, freq in unique_de.items() if freq == 1]"
   ]
  },
  {
   "cell_type": "code",
   "execution_count": 45,
   "metadata": {},
   "outputs": [],
   "source": [
    "with open(\"unique_token_eng.txt\", \"w\") as f:\n",
    "    for token in unk_english:\n",
    "        f.write(token + \"\\n\")"
   ]
  },
  {
   "cell_type": "code",
   "execution_count": 47,
   "metadata": {},
   "outputs": [],
   "source": [
    "unique_tokens_en = set(unique_en.keys())\n",
    "unique_tokens_de = set(unique_de.keys())"
   ]
  },
  {
   "cell_type": "code",
   "execution_count": 49,
   "metadata": {},
   "outputs": [],
   "source": [
    "same_tokens = unique_tokens_en.intersection(unique_tokens_de)"
   ]
  },
  {
   "cell_type": "code",
   "execution_count": 51,
   "metadata": {},
   "outputs": [
    {
     "data": {
      "text/plain": [
       "1460"
      ]
     },
     "execution_count": 51,
     "metadata": {},
     "output_type": "execute_result"
    }
   ],
   "source": [
    "len(same_tokens)"
   ]
  }
 ],
 "metadata": {
  "kernelspec": {
   "display_name": "Python 3",
   "language": "python",
   "name": "python3"
  },
  "language_info": {
   "codemirror_mode": {
    "name": "ipython",
    "version": 3
   },
   "file_extension": ".py",
   "mimetype": "text/x-python",
   "name": "python",
   "nbconvert_exporter": "python",
   "pygments_lexer": "ipython3",
   "version": "3.11.1"
  }
 },
 "nbformat": 4,
 "nbformat_minor": 2
}
